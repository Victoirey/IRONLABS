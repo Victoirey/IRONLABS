{
 "cells": [
  {
   "cell_type": "code",
   "execution_count": 1,
   "id": "f208178e",
   "metadata": {},
   "outputs": [],
   "source": [
    "%matplotlib inline\n",
    "import pandas as pd\n",
    "import numpy as np\n",
    "import matplotlib.pyplot as plt\n",
    "import math"
   ]
  },
  {
   "cell_type": "raw",
   "id": "282c7781",
   "metadata": {},
   "source": [
    "Challenge 3\n",
    "The lifetimes of 400 light-bulbs were found to the nearest hour. \n",
    "The results were recorded as follows. Lifetime (hours) 0–199 200–399 400–599 600–799 800–999 1000–1199 1200–1999 \n",
    "Frequency 143 97 64 51 14 14 17 Construct a histogram and cumulative frequency polygon for this dataset. \n",
    "Estimate the percentage of bulbs with lifetime less than 480 hours."
   ]
  },
  {
   "cell_type": "code",
   "execution_count": 2,
   "id": "86c23d75",
   "metadata": {},
   "outputs": [],
   "source": [
    "lifetime=['0–199', '200–399', '400–599', '600–799', '800–999', '1000–1199', '1200–1999']\n",
    "frequency=[143, 97, 64, 51, 14, 14, 17]"
   ]
  },
  {
   "cell_type": "code",
   "execution_count": 3,
   "id": "990ddb0b",
   "metadata": {},
   "outputs": [
    {
     "data": {
      "image/png": "[encoded data removed]",
      "text/plain": [
       "<Figure size 432x288 with 1 Axes>"
      ]
     },
     "metadata": {
      "needs_background": "light"
     },
     "output_type": "display_data"
    },
    {
     "data": {
      "text/plain": [
       "<Figure size 432x288 with 0 Axes>"
      ]
     },
     "metadata": {},
     "output_type": "display_data"
    }
   ],
   "source": [
    "plt.plot(lifetime, frequency, label='bulbs')\n",
    "\n",
    "plt.xlabel('lifetime')\n",
    "plt.ylabel('frequency')\n",
    "plt.title(\"Bulbs lifetime frequency\")\n",
    "plt.legend()\n",
    "plt.show()\n",
    "plt.savefig(r'C:\\Users\\Administrateur\\Ironhack\\LAB\\DAFT_212\\module_2\\Lab_3_Statistics-Foundation\\bulbs.jpg')"
   ]
  },
  {
   "cell_type": "code",
   "execution_count": 4,
   "id": "a52fa13e",
   "metadata": {},
   "outputs": [
    {
     "data": {
      "image/png": "[encoded data removed]",
      "text/plain": [
       "<Figure size 432x288 with 1 Axes>"
      ]
     },
     "metadata": {
      "needs_background": "light"
     },
     "output_type": "display_data"
    },
    {
     "data": {
      "text/plain": [
       "<Figure size 432x288 with 0 Axes>"
      ]
     },
     "metadata": {},
     "output_type": "display_data"
    }
   ],
   "source": [
    "plt.bar(lifetime, frequency)\n",
    "plt.show()\n",
    "plt.savefig(r'C:\\Users\\Administrateur\\Ironhack\\LAB\\DAFT_212\\module_2\\Lab_3_Statistics-Foundation\\bulbs2.jpg')"
   ]
  },
  {
   "cell_type": "code",
   "execution_count": 5,
   "id": "36d1054c",
   "metadata": {},
   "outputs": [
    {
     "data": {
      "text/plain": [
       "143        0–199\n",
       "97       200–399\n",
       "64       400–599\n",
       "51       600–799\n",
       "14       800–999\n",
       "14     1000–1199\n",
       "17     1200–1999\n",
       "dtype: object"
      ]
     },
     "execution_count": 5,
     "metadata": {},
     "output_type": "execute_result"
    }
   ],
   "source": [
    "import pandas as pd\n",
    "import numpy as np\n",
    "import matplotlib.pyplot as plt\n",
    "series = pd.Series(lifetime, frequency)\n",
    "series"
   ]
  },
  {
   "cell_type": "code",
   "execution_count": 6,
   "id": "3db52651",
   "metadata": {},
   "outputs": [
    {
     "data": {
      "image/png": "[encoded data removed]",
      "text/plain": [
       "<Figure size 432x288 with 2 Axes>"
      ]
     },
     "metadata": {
      "needs_background": "light"
     },
     "output_type": "display_data"
    }
   ],
   "source": [
    "fig, ax = plt.subplots()\n",
    "ax2 = ax.twinx()\n",
    "n, bins, patches = ax.hist(series)\n",
    "n, bins, patches = ax2.hist(\n",
    "    series, cumulative=1, histtype='step',color='tab:orange')\n",
    "plt.savefig('test.png')"
   ]
  },
  {
   "cell_type": "code",
   "execution_count": 7,
   "id": "fdbaf0bc",
   "metadata": {},
   "outputs": [],
   "source": [
    "groups=[\"0–199\",\"200–399\",\"400–599\",\"600–799\",\"800–999\",\"1000–1199\",\"1200–1999\"]\n",
    "frequency=[143,97,64,51,14,14,17]\n",
    "\n",
    "def cumdata(lst):\n",
    "    cumlst=lst[0:1]\n",
    "    for i in range((len(lst)-1)):\n",
    "        if i==len(lst):\n",
    "            break\n",
    "        else:\n",
    "            cumlst.append(lst[i+1]+cumlst[i])\n",
    "    return cumlst"
   ]
  },
  {
   "cell_type": "code",
   "execution_count": null,
   "id": "6b3173de",
   "metadata": {},
   "outputs": [],
   "source": [
    "cum_freq=cumdata(frequency)\n",
    "freq=pd.DataFrame({'groups':groups,'cum_freq':cum_freq})\n",
    "freq"
   ]
  },
  {
   "cell_type": "raw",
   "id": "512ebe74",
   "metadata": {},
   "source": [
    "Challenge 4\n",
    "The time between arrival of 60 patients at an intensive care unit were recorded to the nearest hour. \n",
    "The data are shown below. Time (hours) 0–19 20–39 40–59 60–79 80–99 100–119 120–139 140–159 160–179 \n",
    "Frequency 16 13 17 4 4 3 1 1 1 Determine the median, mean and standard deviation for this dataset."
   ]
  },
  {
   "cell_type": "code",
   "execution_count": 20,
   "id": "05a8ee1e",
   "metadata": {},
   "outputs": [],
   "source": [
    "time =['0–19', '20–39', '40–59', '60–79', '80–99', '100–119', '120–139', '140–159', '160–179']\n",
    "freq=[16, 13, 17, 4, 4, 3, 1, 1, 1]"
   ]
  },
  {
   "cell_type": "code",
   "execution_count": 11,
   "id": "6f3aa90b",
   "metadata": {},
   "outputs": [],
   "source": [
    "from statistics import median\n",
    "from statistics import mean\n",
    "from statistics import stdev"
   ]
  },
  {
   "cell_type": "code",
   "execution_count": 22,
   "id": "1a83c3bf",
   "metadata": {},
   "outputs": [
    {
     "data": {
      "text/html": [
       "<div>\n",
       "<style scoped>\n",
       "    .dataframe tbody tr th:only-of-type {\n",
       "        vertical-align: middle;\n",
       "    }\n",
       "\n",
       "    .dataframe tbody tr th {\n",
       "        vertical-align: top;\n",
       "    }\n",
       "\n",
       "    .dataframe thead th {\n",
       "        text-align: right;\n",
       "    }\n",
       "</style>\n",
       "<table border=\"1\" class=\"dataframe\">\n",
       "  <thead>\n",
       "    <tr style=\"text-align: right;\">\n",
       "      <th></th>\n",
       "      <th>frequency</th>\n",
       "      <th>Time</th>\n",
       "    </tr>\n",
       "  </thead>\n",
       "  <tbody>\n",
       "    <tr>\n",
       "      <th>0</th>\n",
       "      <td>16</td>\n",
       "      <td>0–19</td>\n",
       "    </tr>\n",
       "    <tr>\n",
       "      <th>1</th>\n",
       "      <td>13</td>\n",
       "      <td>20–39</td>\n",
       "    </tr>\n",
       "    <tr>\n",
       "      <th>2</th>\n",
       "      <td>17</td>\n",
       "      <td>40–59</td>\n",
       "    </tr>\n",
       "    <tr>\n",
       "      <th>3</th>\n",
       "      <td>4</td>\n",
       "      <td>60–79</td>\n",
       "    </tr>\n",
       "    <tr>\n",
       "      <th>4</th>\n",
       "      <td>4</td>\n",
       "      <td>80–99</td>\n",
       "    </tr>\n",
       "    <tr>\n",
       "      <th>5</th>\n",
       "      <td>3</td>\n",
       "      <td>100–119</td>\n",
       "    </tr>\n",
       "    <tr>\n",
       "      <th>6</th>\n",
       "      <td>1</td>\n",
       "      <td>120–139</td>\n",
       "    </tr>\n",
       "    <tr>\n",
       "      <th>7</th>\n",
       "      <td>1</td>\n",
       "      <td>140–159</td>\n",
       "    </tr>\n",
       "    <tr>\n",
       "      <th>8</th>\n",
       "      <td>1</td>\n",
       "      <td>160–179</td>\n",
       "    </tr>\n",
       "  </tbody>\n",
       "</table>\n",
       "</div>"
      ],
      "text/plain": [
       "   frequency     Time\n",
       "0         16     0–19\n",
       "1         13    20–39\n",
       "2         17    40–59\n",
       "3          4    60–79\n",
       "4          4    80–99\n",
       "5          3  100–119\n",
       "6          1  120–139\n",
       "7          1  140–159\n",
       "8          1  160–179"
      ]
     },
     "execution_count": 22,
     "metadata": {},
     "output_type": "execute_result"
    }
   ],
   "source": [
    "data=pd.DataFrame({'frequency':freq, 'Time':time})\n",
    "data\n"
   ]
  },
  {
   "cell_type": "code",
   "execution_count": null,
   "id": "96ba838f",
   "metadata": {},
   "outputs": [],
   "source": []
  },
  {
   "cell_type": "code",
   "execution_count": null,
   "id": "7c6d2edd",
   "metadata": {},
   "outputs": [],
   "source": []
  }
 ],
 "metadata": {
  "kernelspec": {
   "display_name": "Python 3 (ipykernel)",
   "language": "python",
   "name": "python3"
  },
  "language_info": {
   "codemirror_mode": {
    "name": "ipython",
    "version": 3
   },
   "file_extension": ".py",
   "mimetype": "text/x-python",
   "name": "python",
   "nbconvert_exporter": "python",
   "pygments_lexer": "ipython3",
   "version": "3.9.7"
  }
 },
 "nbformat": 4,
 "nbformat_minor": 5
}
