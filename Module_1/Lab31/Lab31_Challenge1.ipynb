{
 "cells": [
  {
   "cell_type": "code",
   "execution_count": 79,
   "id": "7ccbdc4e",
   "metadata": {},
   "outputs": [
    {
     "name": "stdout",
     "output_type": "stream",
     "text": [
      "Welcome to this calculator! \n",
      "It can add and subtract whole numbers from zero to five\n",
      "Please choose your first number (zero to five): one\n",
      "What do you want to do? plus or minus: plus\n",
      "Please choose your second number (zero to five): one\n"
     ]
    }
   ],
   "source": [
    "print('Welcome to this calculator! \\nIt can add and subtract whole numbers from zero to five')\n",
    "a = input('Please choose your first number (zero to five): ')\n",
    "b = input('What do you want to do? plus or minus: ')\n",
    "c = input('Please choose your second number (zero to five): ')"
   ]
  },
  {
   "cell_type": "code",
   "execution_count": 71,
   "id": "9a7f8762",
   "metadata": {},
   "outputs": [],
   "source": [
    "dict1 ={'zero': 0, 'one': 1, 'two': 2, 'three': 3, 'four': 4, 'five': 5}\n",
    "dict2 = {0: 'zero', 1 : 'one', 2 : 'two', 3 : 'three', 4 : 'four', 5 : 'five', 6 : 'six', 7 : 'seven', 8 : 'eight', 9 : 'nine', 10 : 'ten', -1 : 'negative one', -2 : 'negative two', -3 : 'negative three', -4 : 'negative four', -5 : 'negative five'}\n",
    "lst=['plus', 'minus']"
   ]
  },
  {
   "cell_type": "code",
   "execution_count": 67,
   "id": "80c65f37",
   "metadata": {},
   "outputs": [],
   "source": [
    "def calculate(a, b, c):\n",
    "    if b == 'minus':\n",
    "        return dict1[a]-dict1[c]\n",
    "    elif b =='plus':\n",
    "        return dict1[a]+dict1[c]"
   ]
  },
  {
   "cell_type": "code",
   "execution_count": 80,
   "id": "bea71298",
   "metadata": {},
   "outputs": [
    {
     "name": "stdout",
     "output_type": "stream",
     "text": [
      "one plus one equals two\n",
      "Thanks for using this calculator, goodbye :)\n"
     ]
    }
   ],
   "source": [
    "if a in dict1.keys() and c in dict1.keys()  and b in lst:\n",
    "    print(a, b, c, 'equals', dict2[calculate(a,b,c)])\n",
    "else:\n",
    "    print('There is an error in your inputs. Remember to input only numbers from zero to five and sign plus or minus. Please try again.')\n",
    "    \n",
    "print(\"Thanks for using this calculator, goodbye :)\")"
   ]
  }
 ],
 "metadata": {
  "kernelspec": {
   "display_name": "Python 3 (ipykernel)",
   "language": "python",
   "name": "python3"
  },
  "language_info": {
   "codemirror_mode": {
    "name": "ipython",
    "version": 3
   },
   "file_extension": ".py",
   "mimetype": "text/x-python",
   "name": "python",
   "nbconvert_exporter": "python",
   "pygments_lexer": "ipython3",
   "version": "3.9.7"
  }
 },
 "nbformat": 4,
 "nbformat_minor": 5
}
