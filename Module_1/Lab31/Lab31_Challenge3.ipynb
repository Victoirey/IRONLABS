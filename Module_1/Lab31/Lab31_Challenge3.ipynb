{
 "cells": [
  {
   "cell_type": "markdown",
   "id": "b2ed1fad",
   "metadata": {},
   "source": [
    "# OLD CODE VERSION"
   ]
  },
  {
   "cell_type": "code",
   "execution_count": 17,
   "id": "19079378",
   "metadata": {},
   "outputs": [
    {
     "name": "stdout",
     "output_type": "stream",
     "text": [
      "What is the maximal length of the triangle side? Enter a number: 5\n",
      "The longest side possible is 0\n"
     ]
    }
   ],
   "source": [
    "def my_function(X):\n",
    "    solutions = []\n",
    "    for x in range(5, X):\n",
    "        for y in range(4, X):\n",
    "            for z in range(3, X):\n",
    "                if (x*x==y*y+z*z):\n",
    "                    solutions.append([x, y, z])\n",
    "    m = 0\n",
    "    for solution in solutions:\n",
    "        if m < max(solution):\n",
    "            m = max(solution)\n",
    "    return m\n",
    "\n",
    "X = input(\"What is the maximal length of the triangle side? Enter a number: \")\n",
    "\n",
    "print(\"The longest side possible is \" + str(my_function(int(X))))\n"
   ]
  },
  {
   "cell_type": "markdown",
   "id": "d6087445",
   "metadata": {},
   "source": [
    "# NEW CODE VERSION"
   ]
  },
  {
   "cell_type": "code",
   "execution_count": 18,
   "id": "0003684d",
   "metadata": {},
   "outputs": [],
   "source": [
    "def my_function(X):\n",
    "    solutions = [[x, y, z] \n",
    "                 for x in range(5, X)\n",
    "                 for y in range(4, X)\n",
    "                 for z in range(3, X)\n",
    "                 if (x*x==y*y+z*z)]\n",
    "    return max([max(solution) for solution in solutions]);"
   ]
  },
  {
   "cell_type": "code",
   "execution_count": 25,
   "id": "1f92c313",
   "metadata": {},
   "outputs": [
    {
     "name": "stdout",
     "output_type": "stream",
     "text": [
      "What is the maximal length of the triangle side? Enter a number: 50\n",
      "The longest side possible is 45\n"
     ]
    }
   ],
   "source": [
    "X = input(\"What is the maximal length of the triangle side? Enter a number: \")\n",
    "\n",
    "print(\"The longest side possible is \" + str(my_function(int(X))))"
   ]
  }
 ],
 "metadata": {
  "kernelspec": {
   "display_name": "Python 3 (ipykernel)",
   "language": "python",
   "name": "python3"
  },
  "language_info": {
   "codemirror_mode": {
    "name": "ipython",
    "version": 3
   },
   "file_extension": ".py",
   "mimetype": "text/x-python",
   "name": "python",
   "nbconvert_exporter": "python",
   "pygments_lexer": "ipython3",
   "version": "3.9.7"
  }
 },
 "nbformat": 4,
 "nbformat_minor": 5
}
