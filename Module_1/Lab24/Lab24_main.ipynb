{
 "cells": [
  {
   "cell_type": "markdown",
   "metadata": {},
   "source": [
    "# Intrduction to NumPy\n",
    "\n",
    "\n",
    "#### 1. Import NumPy under the name np."
   ]
  },
  {
   "cell_type": "code",
   "execution_count": 1,
   "metadata": {},
   "outputs": [],
   "source": [
    "import numpy as np"
   ]
  },
  {
   "cell_type": "markdown",
   "metadata": {},
   "source": [
    "#### 2. Print your NumPy version."
   ]
  },
  {
   "cell_type": "code",
   "execution_count": 2,
   "metadata": {},
   "outputs": [
    {
     "name": "stdout",
     "output_type": "stream",
     "text": [
      "<module 'numpy' from 'C:\\\\Users\\\\Administrateur\\\\anaconda3\\\\lib\\\\site-packages\\\\numpy\\\\__init__.py'>\n"
     ]
    }
   ],
   "source": [
    "print(np)"
   ]
  },
  {
   "cell_type": "code",
   "execution_count": 4,
   "metadata": {},
   "outputs": [
    {
     "name": "stdout",
     "output_type": "stream",
     "text": [
      "1.20.3\n"
     ]
    }
   ],
   "source": [
    "print(np.__version__)"
   ]
  },
  {
   "cell_type": "markdown",
   "metadata": {},
   "source": [
    "#### 3. Generate a 2x3x5 3-dimensional array with random values. Assign the array to variable *a*.\n",
    "**Challenge**: there are at least three easy ways that use numpy to generate random arrays. How many ways can you find?"
   ]
  },
  {
   "cell_type": "code",
   "execution_count": 8,
   "metadata": {},
   "outputs": [
    {
     "name": "stdout",
     "output_type": "stream",
     "text": [
      "[[[0.0102083  0.80816543 0.79000409 0.38996835 0.60218509]\n",
      "  [0.79191596 0.74390411 0.7363601  0.59685676 0.95208619]\n",
      "  [0.08253545 0.368198   0.00899738 0.29978063 0.63835041]]\n",
      "\n",
      " [[0.00417069 0.5590494  0.2344424  0.74710626 0.69740295]\n",
      "  [0.20513303 0.23275626 0.23909537 0.26669844 0.4243566 ]\n",
      "  [0.46531752 0.44358768 0.63187235 0.0582095  0.69081154]]]\n"
     ]
    }
   ],
   "source": [
    "# Method 1\n",
    "a = np.random.random((2,3,5))\n",
    "print(a)"
   ]
  },
  {
   "cell_type": "code",
   "execution_count": 29,
   "metadata": {},
   "outputs": [
    {
     "name": "stdout",
     "output_type": "stream",
     "text": [
      "[[[0 1 4 8 8]\n",
      "  [0 5 1 4 6]\n",
      "  [3 8 2 5 8]]\n",
      "\n",
      " [[1 7 5 5 5]\n",
      "  [0 7 2 0 1]\n",
      "  [5 8 9 0 0]]]\n"
     ]
    }
   ],
   "source": [
    "# Method 2\n",
    "a = np.random.randint(10, size=(2,3,5))\n",
    "print(a)\n"
   ]
  },
  {
   "cell_type": "code",
   "execution_count": 50,
   "metadata": {},
   "outputs": [
    {
     "name": "stdout",
     "output_type": "stream",
     "text": [
      "[[[0.03507566 0.09884014 0.36563973 0.47165694 0.77133472]\n",
      "  [0.48440166 0.0114853  0.96221486 0.89218203 0.90410999]\n",
      "  [0.02321119 0.6024549  0.79396908 0.13675246 0.89071912]]\n",
      "\n",
      " [[0.86904136 0.86084534 0.97813662 0.6499642  0.98092484]\n",
      "  [0.66844469 0.32051761 0.99658808 0.31979064 0.15835349]\n",
      "  [0.96743299 0.73561697 0.06927777 0.77407802 0.92472797]]]\n"
     ]
    }
   ],
   "source": [
    "# Method 3\n",
    "a=np.random.sample((2,3,5))\n",
    "print(a)"
   ]
  },
  {
   "cell_type": "markdown",
   "metadata": {},
   "source": [
    "#### 4. Print *a*.\n"
   ]
  },
  {
   "cell_type": "code",
   "execution_count": 9,
   "metadata": {},
   "outputs": [
    {
     "name": "stdout",
     "output_type": "stream",
     "text": [
      "[[[0.0102083  0.80816543 0.79000409 0.38996835 0.60218509]\n",
      "  [0.79191596 0.74390411 0.7363601  0.59685676 0.95208619]\n",
      "  [0.08253545 0.368198   0.00899738 0.29978063 0.63835041]]\n",
      "\n",
      " [[0.00417069 0.5590494  0.2344424  0.74710626 0.69740295]\n",
      "  [0.20513303 0.23275626 0.23909537 0.26669844 0.4243566 ]\n",
      "  [0.46531752 0.44358768 0.63187235 0.0582095  0.69081154]]]\n"
     ]
    }
   ],
   "source": [
    "print(a)"
   ]
  },
  {
   "cell_type": "markdown",
   "metadata": {},
   "source": [
    "#### 5. Create a 5x2x3 3-dimensional array with all values equaling 1. Assign the array to variable *b*."
   ]
  },
  {
   "cell_type": "code",
   "execution_count": 11,
   "metadata": {},
   "outputs": [],
   "source": [
    "b=np.ones((5,2,3))"
   ]
  },
  {
   "cell_type": "code",
   "execution_count": 13,
   "metadata": {},
   "outputs": [
    {
     "name": "stdout",
     "output_type": "stream",
     "text": [
      "[[[1. 1. 1.]\n",
      "  [1. 1. 1.]]\n",
      "\n",
      " [[1. 1. 1.]\n",
      "  [1. 1. 1.]]\n",
      "\n",
      " [[1. 1. 1.]\n",
      "  [1. 1. 1.]]\n",
      "\n",
      " [[1. 1. 1.]\n",
      "  [1. 1. 1.]]\n",
      "\n",
      " [[1. 1. 1.]\n",
      "  [1. 1. 1.]]]\n"
     ]
    }
   ],
   "source": [
    "print(b)"
   ]
  },
  {
   "cell_type": "code",
   "execution_count": 15,
   "metadata": {
    "scrolled": false
   },
   "outputs": [
    {
     "name": "stdout",
     "output_type": "stream",
     "text": [
      "[[[1 1 1]\n",
      "  [1 1 1]]\n",
      "\n",
      " [[1 1 1]\n",
      "  [1 1 1]]\n",
      "\n",
      " [[1 1 1]\n",
      "  [1 1 1]]\n",
      "\n",
      " [[1 1 1]\n",
      "  [1 1 1]]\n",
      "\n",
      " [[1 1 1]\n",
      "  [1 1 1]]]\n"
     ]
    }
   ],
   "source": [
    "b=np.array([[[1, 1, 1], [1,1,1]], [[1, 1, 1], [1,1,1]], [[1, 1, 1], [1,1,1]], [[1, 1, 1], [1,1,1]], [[1, 1, 1], [1,1,1]]])\n",
    "print(b)"
   ]
  },
  {
   "cell_type": "markdown",
   "metadata": {},
   "source": [
    "#### 6. Print *b*.\n"
   ]
  },
  {
   "cell_type": "code",
   "execution_count": 12,
   "metadata": {},
   "outputs": [
    {
     "name": "stdout",
     "output_type": "stream",
     "text": [
      "[[[1. 1. 1.]\n",
      "  [1. 1. 1.]]\n",
      "\n",
      " [[1. 1. 1.]\n",
      "  [1. 1. 1.]]\n",
      "\n",
      " [[1. 1. 1.]\n",
      "  [1. 1. 1.]]\n",
      "\n",
      " [[1. 1. 1.]\n",
      "  [1. 1. 1.]]\n",
      "\n",
      " [[1. 1. 1.]\n",
      "  [1. 1. 1.]]]\n"
     ]
    }
   ],
   "source": [
    "print(b)"
   ]
  },
  {
   "cell_type": "markdown",
   "metadata": {},
   "source": [
    "#### 7. Do *a* and *b* have the same size? How do you prove that in Python code?"
   ]
  },
  {
   "cell_type": "code",
   "execution_count": 16,
   "metadata": {},
   "outputs": [
    {
     "name": "stdout",
     "output_type": "stream",
     "text": [
      "(2, 3, 5)\n"
     ]
    }
   ],
   "source": [
    "print(a.shape)"
   ]
  },
  {
   "cell_type": "code",
   "execution_count": 17,
   "metadata": {},
   "outputs": [
    {
     "name": "stdout",
     "output_type": "stream",
     "text": [
      "(5, 2, 3)\n"
     ]
    }
   ],
   "source": [
    "print(b.shape)"
   ]
  },
  {
   "cell_type": "code",
   "execution_count": 18,
   "metadata": {},
   "outputs": [
    {
     "data": {
      "text/plain": [
       "False"
      ]
     },
     "execution_count": 18,
     "metadata": {},
     "output_type": "execute_result"
    }
   ],
   "source": [
    "a.shape==b.shape"
   ]
  },
  {
   "cell_type": "markdown",
   "metadata": {},
   "source": [
    "#### 8. Are you able to add *a* and *b*? Why or why not?\n"
   ]
  },
  {
   "cell_type": "code",
   "execution_count": null,
   "metadata": {},
   "outputs": [],
   "source": []
  },
  {
   "cell_type": "markdown",
   "metadata": {},
   "source": [
    "#### 9. Transpose *b* so that it has the same structure of *a* (i.e. become a 2x3x5 array). Assign the transposed array to variable *c*."
   ]
  },
  {
   "cell_type": "code",
   "execution_count": 46,
   "metadata": {},
   "outputs": [
    {
     "name": "stdout",
     "output_type": "stream",
     "text": [
      "[[[1 1 1 1 1]\n",
      "  [1 1 1 1 1]\n",
      "  [1 1 1 1 1]]\n",
      "\n",
      " [[1 1 1 1 1]\n",
      "  [1 1 1 1 1]\n",
      "  [1 1 1 1 1]]]\n"
     ]
    }
   ],
   "source": [
    "c= np.transpose(b, axes=(1, 2,0))\n",
    "print(c)"
   ]
  },
  {
   "cell_type": "code",
   "execution_count": 47,
   "metadata": {},
   "outputs": [
    {
     "name": "stdout",
     "output_type": "stream",
     "text": [
      "(2, 3, 5)\n"
     ]
    }
   ],
   "source": [
    "print(c.shape)"
   ]
  },
  {
   "cell_type": "markdown",
   "metadata": {},
   "source": [
    "#### 10. Try to add *a* and *c*. Now it should work. Assign the sum to variable *d*. But why does it work now?"
   ]
  },
  {
   "cell_type": "code",
   "execution_count": 52,
   "metadata": {},
   "outputs": [
    {
     "data": {
      "text/plain": [
       "array([[[1.03507566, 1.09884014, 1.36563973, 1.47165694, 1.77133472],\n",
       "        [1.48440166, 1.0114853 , 1.96221486, 1.89218203, 1.90410999],\n",
       "        [1.02321119, 1.6024549 , 1.79396908, 1.13675246, 1.89071912]],\n",
       "\n",
       "       [[1.86904136, 1.86084534, 1.97813662, 1.6499642 , 1.98092484],\n",
       "        [1.66844469, 1.32051761, 1.99658808, 1.31979064, 1.15835349],\n",
       "        [1.96743299, 1.73561697, 1.06927777, 1.77407802, 1.92472797]]])"
      ]
     },
     "execution_count": 52,
     "metadata": {},
     "output_type": "execute_result"
    }
   ],
   "source": [
    "d=c+a\n",
    "d"
   ]
  },
  {
   "cell_type": "markdown",
   "metadata": {},
   "source": [
    "#### 11. Print *a* and *d*. Notice the difference and relation of the two array in terms of the values? Explain."
   ]
  },
  {
   "cell_type": "code",
   "execution_count": 54,
   "metadata": {},
   "outputs": [
    {
     "name": "stdout",
     "output_type": "stream",
     "text": [
      "[[[0.03507566 0.09884014 0.36563973 0.47165694 0.77133472]\n",
      "  [0.48440166 0.0114853  0.96221486 0.89218203 0.90410999]\n",
      "  [0.02321119 0.6024549  0.79396908 0.13675246 0.89071912]]\n",
      "\n",
      " [[0.86904136 0.86084534 0.97813662 0.6499642  0.98092484]\n",
      "  [0.66844469 0.32051761 0.99658808 0.31979064 0.15835349]\n",
      "  [0.96743299 0.73561697 0.06927777 0.77407802 0.92472797]]]\n",
      "[[[1.03507566 1.09884014 1.36563973 1.47165694 1.77133472]\n",
      "  [1.48440166 1.0114853  1.96221486 1.89218203 1.90410999]\n",
      "  [1.02321119 1.6024549  1.79396908 1.13675246 1.89071912]]\n",
      "\n",
      " [[1.86904136 1.86084534 1.97813662 1.6499642  1.98092484]\n",
      "  [1.66844469 1.32051761 1.99658808 1.31979064 1.15835349]\n",
      "  [1.96743299 1.73561697 1.06927777 1.77407802 1.92472797]]]\n",
      "[[[1. 1. 1. 1. 1.]\n",
      "  [1. 1. 1. 1. 1.]\n",
      "  [1. 1. 1. 1. 1.]]\n",
      "\n",
      " [[1. 1. 1. 1. 1.]\n",
      "  [1. 1. 1. 1. 1.]\n",
      "  [1. 1. 1. 1. 1.]]]\n"
     ]
    }
   ],
   "source": [
    "print(a)\n",
    "print(d)\n",
    "print(d-a)"
   ]
  },
  {
   "cell_type": "markdown",
   "metadata": {},
   "source": [
    "#### 12. Multiply *a* and *c*. Assign the result to *e*."
   ]
  },
  {
   "cell_type": "code",
   "execution_count": 55,
   "metadata": {},
   "outputs": [
    {
     "data": {
      "text/plain": [
       "array([[[0.03507566, 0.09884014, 0.36563973, 0.47165694, 0.77133472],\n",
       "        [0.48440166, 0.0114853 , 0.96221486, 0.89218203, 0.90410999],\n",
       "        [0.02321119, 0.6024549 , 0.79396908, 0.13675246, 0.89071912]],\n",
       "\n",
       "       [[0.86904136, 0.86084534, 0.97813662, 0.6499642 , 0.98092484],\n",
       "        [0.66844469, 0.32051761, 0.99658808, 0.31979064, 0.15835349],\n",
       "        [0.96743299, 0.73561697, 0.06927777, 0.77407802, 0.92472797]]])"
      ]
     },
     "execution_count": 55,
     "metadata": {},
     "output_type": "execute_result"
    }
   ],
   "source": [
    "e=a*c\n",
    "e"
   ]
  },
  {
   "cell_type": "markdown",
   "metadata": {},
   "source": [
    "#### 13. Does *e* equal to *a*? Why or why not?\n"
   ]
  },
  {
   "cell_type": "code",
   "execution_count": 56,
   "metadata": {},
   "outputs": [
    {
     "name": "stdout",
     "output_type": "stream",
     "text": [
      "[[[1 1 1 1 1]\n",
      "  [1 1 1 1 1]\n",
      "  [1 1 1 1 1]]\n",
      "\n",
      " [[1 1 1 1 1]\n",
      "  [1 1 1 1 1]\n",
      "  [1 1 1 1 1]]]\n"
     ]
    }
   ],
   "source": [
    "print(c)\n",
    "# e equals a cause c is an array with all elements equal to 1"
   ]
  },
  {
   "cell_type": "markdown",
   "metadata": {},
   "source": [
    "#### 14. Identify the max, min, and mean values in *d*. Assign those values to variables *d_max*, *d_min* and *d_mean*."
   ]
  },
  {
   "cell_type": "code",
   "execution_count": 59,
   "metadata": {},
   "outputs": [
    {
     "data": {
      "text/plain": [
       "1.9965880761709793"
      ]
     },
     "execution_count": 59,
     "metadata": {},
     "output_type": "execute_result"
    }
   ],
   "source": [
    "d_max=d.max()\n",
    "d_max"
   ]
  },
  {
   "cell_type": "code",
   "execution_count": 60,
   "metadata": {},
   "outputs": [
    {
     "data": {
      "text/plain": [
       "1.011485302861927"
      ]
     },
     "execution_count": 60,
     "metadata": {},
     "output_type": "execute_result"
    }
   ],
   "source": [
    "d_min=d.min()\n",
    "d_min"
   ]
  },
  {
   "cell_type": "code",
   "execution_count": 61,
   "metadata": {},
   "outputs": [
    {
     "data": {
      "text/plain": [
       "1.5905929460038002"
      ]
     },
     "execution_count": 61,
     "metadata": {},
     "output_type": "execute_result"
    }
   ],
   "source": [
    "d_mean=d.mean()\n",
    "d_mean"
   ]
  },
  {
   "cell_type": "markdown",
   "metadata": {},
   "source": [
    "#### 15. Now we want to label the values in *d*. First create an empty array *f* with the same shape (i.e. 2x3x5) as *d* using `np.empty`.\n"
   ]
  },
  {
   "cell_type": "code",
   "execution_count": 66,
   "metadata": {},
   "outputs": [
    {
     "data": {
      "text/plain": [
       "array([[[0.03507566, 0.09884014, 0.36563973, 0.47165694, 0.77133472],\n",
       "        [0.48440166, 0.0114853 , 0.96221486, 0.89218203, 0.90410999],\n",
       "        [0.02321119, 0.6024549 , 0.79396908, 0.13675246, 0.89071912]],\n",
       "\n",
       "       [[0.86904136, 0.86084534, 0.97813662, 0.6499642 , 0.98092484],\n",
       "        [0.66844469, 0.32051761, 0.99658808, 0.31979064, 0.15835349],\n",
       "        [0.96743299, 0.73561697, 0.06927777, 0.77407802, 0.92472797]]])"
      ]
     },
     "execution_count": 66,
     "metadata": {},
     "output_type": "execute_result"
    }
   ],
   "source": [
    "f=np.empty((2,3,5))\n",
    "f"
   ]
  },
  {
   "cell_type": "markdown",
   "metadata": {},
   "source": [
    "#### 16. Populate the values in *f*. \n",
    "\n",
    "For each value in *d*, if it's larger than *d_min* but smaller than *d_mean*, assign 25 to the corresponding value in *f*. If a value in *d* is larger than *d_mean* but smaller than *d_max*, assign 75 to the corresponding value in *f*. If a value equals to *d_mean*, assign 50 to the corresponding value in *f*. Assign 0 to the corresponding value(s) in *f* for *d_min* in *d*. Assign 100 to the corresponding value(s) in *f* for *d_max* in *d*. In the end, f should have only the following values: 0, 25, 50, 75, and 100.\n",
    "\n",
    "**Note**: you don't have to use Numpy in this question."
   ]
  },
  {
   "cell_type": "code",
   "execution_count": 70,
   "metadata": {},
   "outputs": [
    {
     "name": "stdout",
     "output_type": "stream",
     "text": [
      "[[[1.03507566 1.09884014 1.36563973 1.47165694 1.77133472]\n",
      "  [1.48440166 1.0114853  1.96221486 1.89218203 1.90410999]\n",
      "  [1.02321119 1.6024549  1.79396908 1.13675246 1.89071912]]\n",
      "\n",
      " [[1.86904136 1.86084534 1.97813662 1.6499642  1.98092484]\n",
      "  [1.66844469 1.32051761 1.99658808 1.31979064 1.15835349]\n",
      "  [1.96743299 1.73561697 1.06927777 1.77407802 1.92472797]]]\n"
     ]
    }
   ],
   "source": [
    "print(d)"
   ]
  },
  {
   "cell_type": "code",
   "execution_count": 69,
   "metadata": {
    "scrolled": true
   },
   "outputs": [
    {
     "name": "stdout",
     "output_type": "stream",
     "text": [
      "[[[ 25.  25.  25.  25.  75.]\n",
      "  [ 25.   0.  75.  75.  75.]\n",
      "  [ 25.  75.  75.  25.  75.]]\n",
      "\n",
      " [[ 75.  75.  75.  75.  75.]\n",
      "  [ 75.  25. 100.  25.  25.]\n",
      "  [ 75.  75.  25.  75.  75.]]]\n"
     ]
    }
   ],
   "source": [
    "for i, value_i in enumerate(d):\n",
    "    for j, value_j in enumerate(value_i):\n",
    "        for index, value in enumerate(value_j):\n",
    "            if value > d_min and value < d_mean:\n",
    "                value = 25\n",
    "                f[i][j][index] = value\n",
    "        \n",
    "            if value > d_mean and value < d_max:\n",
    "                value = 75\n",
    "                f[i][j][index] = value\n",
    "        \n",
    "            if value == d_mean:\n",
    "                value = 50\n",
    "                f[i][j][index] = value\n",
    "        \n",
    "            if value == d_min:\n",
    "                value = 0\n",
    "                f[i][j][index] = value\n",
    "        \n",
    "            if value == d_max:\n",
    "                value = 100\n",
    "                f[i][j][index] = value\n",
    "                \n",
    "print(f)"
   ]
  },
  {
   "cell_type": "code",
   "execution_count": 75,
   "metadata": {},
   "outputs": [
    {
     "data": {
      "text/plain": [
       "array([[[ 25,  25,  25,  25,  75],\n",
       "        [ 25,   0,  75,  75,  75],\n",
       "        [ 25,  75,  75,  25,  75]],\n",
       "\n",
       "       [[ 75,  75,  75,  75,  75],\n",
       "        [ 75,  25, 100,  25,  25],\n",
       "        [ 75,  75,  25,  75,  75]]])"
      ]
     },
     "execution_count": 75,
     "metadata": {},
     "output_type": "execute_result"
    }
   ],
   "source": [
    "f =[]\n",
    "for x in np.nditer(d):\n",
    "    if x > d_min and x < d_mean:\n",
    "            f  += [25]\n",
    "    elif x > d_mean and x < d_max:\n",
    "            f  += [75]\n",
    "    elif x == d_mean:\n",
    "            f  += [50]\n",
    "    elif x == d_min:\n",
    "            f  += [0]\n",
    "    elif x == d_max:\n",
    "            f  += [100]\n",
    "f = np.reshape(f, d.shape)\n",
    "f"
   ]
  },
  {
   "cell_type": "markdown",
   "metadata": {},
   "source": [
    "#### 17. Print *d* and *f*. Do you have your expected *f*?\n",
    "For instance, if your *d* is:\n",
    "```python\n",
    "[[[1.85836099, 1.67064465, 1.62576044, 1.40243961, 1.88454931],\n",
    "[1.75354326, 1.69403643, 1.36729252, 1.61415071, 1.12104981],\n",
    "[1.72201435, 1.1862918 , 1.87078449, 1.7726778 , 1.88180042]],\n",
    "[[1.44747908, 1.31673383, 1.02000951, 1.52218947, 1.97066381],\n",
    "[1.79129243, 1.74983003, 1.96028037, 1.85166831, 1.65450881],\n",
    "[1.18068344, 1.9587381 , 1.00656599, 1.93402165, 1.73514584]]]\n",
    "```\n",
    "Your *f* should be:\n",
    "```python\n",
    "[[[ 75.,  75.,  75.,  25.,  75.],\n",
    "[ 75.,  75.,  25.,  25.,  25.],\n",
    "[ 75.,  25.,  75.,  75.,  75.]],\n",
    "[[ 25.,  25.,  25.,  25., 100.],\n",
    "[ 75.,  75.,  75.,  75.,  75.],\n",
    "[ 25.,  75.,   0.,  75.,  75.]]]\n",
    "```"
   ]
  },
  {
   "cell_type": "code",
   "execution_count": 71,
   "metadata": {
    "scrolled": true
   },
   "outputs": [
    {
     "name": "stdout",
     "output_type": "stream",
     "text": [
      "[[[1.03507566 1.09884014 1.36563973 1.47165694 1.77133472]\n",
      "  [1.48440166 1.0114853  1.96221486 1.89218203 1.90410999]\n",
      "  [1.02321119 1.6024549  1.79396908 1.13675246 1.89071912]]\n",
      "\n",
      " [[1.86904136 1.86084534 1.97813662 1.6499642  1.98092484]\n",
      "  [1.66844469 1.32051761 1.99658808 1.31979064 1.15835349]\n",
      "  [1.96743299 1.73561697 1.06927777 1.77407802 1.92472797]]]\n",
      "[[[ 25.  25.  25.  25.  75.]\n",
      "  [ 25.   0.  75.  75.  75.]\n",
      "  [ 25.  75.  75.  25.  75.]]\n",
      "\n",
      " [[ 75.  75.  75.  75.  75.]\n",
      "  [ 75.  25. 100.  25.  25.]\n",
      "  [ 75.  75.  25.  75.  75.]]]\n"
     ]
    }
   ],
   "source": [
    "print(d)\n",
    "print(f)"
   ]
  },
  {
   "cell_type": "markdown",
   "metadata": {},
   "source": [
    "#### 18. Bonus question: instead of using numbers (i.e. 0, 25, 50, 75, and 100), use string values  (\"A\", \"B\", \"C\", \"D\", and \"E\") to label the array elements. For the example above, the expected result is:\n",
    "\n",
    "```python\n",
    "[[[ 'D',  'D',  'D',  'B',  'D'],\n",
    "[ 'D',  'D',  'B',  'B',  'B'],\n",
    "[ 'D',  'B',  'D',  'D',  'D']],\n",
    "[[ 'B',  'B',  'B',  'B',  'E'],\n",
    "[ 'D',  'D',  'D',  'D',  'D'],\n",
    "[ 'B',  'D',   'A',  'D', 'D']]]\n",
    "```\n",
    "**Note**: you don't have to use Numpy in this question."
   ]
  },
  {
   "cell_type": "code",
   "execution_count": 74,
   "metadata": {
    "scrolled": true
   },
   "outputs": [
    {
     "data": {
      "text/plain": [
       "array([[['D', 'D', 'D', 'D', 'B'],\n",
       "        ['D', 'E', 'B', 'B', 'B'],\n",
       "        ['D', 'B', 'B', 'D', 'B']],\n",
       "\n",
       "       [['B', 'B', 'B', 'B', 'B'],\n",
       "        ['B', 'D', 'A', 'D', 'D'],\n",
       "        ['B', 'B', 'D', 'B', 'B']]], dtype='<U1')"
      ]
     },
     "execution_count": 74,
     "metadata": {},
     "output_type": "execute_result"
    }
   ],
   "source": [
    "f =[]\n",
    "for x in np.nditer(d):\n",
    "    if x > d_min and x < d_mean:\n",
    "            f  += ['D']\n",
    "    elif x > d_mean and x < d_max:\n",
    "            f  += ['B']\n",
    "    elif x == d_mean:\n",
    "            f  += ['C']\n",
    "    elif x == d_min:\n",
    "            f  += ['E']\n",
    "    elif x == d_max:\n",
    "            f  += ['A']\n",
    "f = np.reshape(f, d.shape)\n",
    "f"
   ]
  }
 ],
 "metadata": {
  "kernelspec": {
   "display_name": "Python 3 (ipykernel)",
   "language": "python",
   "name": "python3"
  },
  "language_info": {
   "codemirror_mode": {
    "name": "ipython",
    "version": 3
   },
   "file_extension": ".py",
   "mimetype": "text/x-python",
   "name": "python",
   "nbconvert_exporter": "python",
   "pygments_lexer": "ipython3",
   "version": "3.9.7"
  }
 },
 "nbformat": 4,
 "nbformat_minor": 2
}
