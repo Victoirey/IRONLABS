{
 "cells": [
  {
   "cell_type": "raw",
   "id": "5195ea45",
   "metadata": {},
   "source": [
    "Define a method/function that removes from a given array of integers all the values contained in a second array."
   ]
  },
  {
   "cell_type": "code",
   "execution_count": null,
   "id": "3d934b2e",
   "metadata": {},
   "outputs": [],
   "source": [
    "Examples:\n",
    "l = List()\n",
    "\n",
    "integer_list =  [1, 1, 2 ,3 ,1 ,2 ,3 ,4]\n",
    "values_list = [1, 3]\n",
    "l.remove_(integer_list, values_list) == [2, 2, 4]\n",
    "\n",
    "integer_list = [1, 1, 2 ,3 ,1 ,2 ,3 ,4, 4, 3 ,5, 6, 7, 2, 8]\n",
    "lst = [1, 3, 4, 2]\n",
    "l.remove_(integer_list, values_list) == [5, 6 ,7 ,8]\n",
    "\n",
    "integer_list = [8, 2, 7, 2, 3, 4, 6, 5, 4, 4, 1, 2 , 3]\n",
    "lst = [2, 4, 3]\n",
    "l.remove_(integer_list, values_list) == [8, 7, 6, 5, 1]"
   ]
  },
  {
   "cell_type": "code",
   "execution_count": 17,
   "id": "dd267317",
   "metadata": {},
   "outputs": [
    {
     "name": "stdout",
     "output_type": "stream",
     "text": [
      "[2, 2, 4]\n"
     ]
    }
   ],
   "source": [
    "new_list=[]\n",
    "integer_list =  [1, 1, 2 ,3 ,1 ,2 ,3 ,4]\n",
    "values_list = [1, 3]\n",
    "def func_list(integer_list, values_list):\n",
    "    for i in integer_list:\n",
    "        if i not in values_list:\n",
    "            new_list.append(i)\n",
    "    print(new_list)\n",
    "l=func_list(integer_list, values_list)"
   ]
  },
  {
   "cell_type": "code",
   "execution_count": 26,
   "id": "4cc102d9",
   "metadata": {},
   "outputs": [],
   "source": [
    "new_list=[]\n",
    "integer_list =  [1, 1, 2 ,3 ,1 ,2 ,3 ,4]\n",
    "values_list = [1, 3]\n",
    "def func_list(integer_list, values_list):\n",
    "    for i in integer_list:\n",
    "        if i not in values_list:\n",
    "            new_list.append(i)\n",
    "    return new_list\n",
    "\n",
    "l=func_list(integer_list, values_list)"
   ]
  },
  {
   "cell_type": "code",
   "execution_count": 24,
   "id": "6c515805",
   "metadata": {},
   "outputs": [
    {
     "name": "stdout",
     "output_type": "stream",
     "text": [
      "[2, 2, 4]\n"
     ]
    }
   ],
   "source": [
    "print(l)"
   ]
  },
  {
   "cell_type": "code",
   "execution_count": null,
   "id": "4a11f5e8",
   "metadata": {},
   "outputs": [],
   "source": []
  },
  {
   "cell_type": "code",
   "execution_count": null,
   "id": "cb44fa4a",
   "metadata": {},
   "outputs": [],
   "source": [
    "We need a method in the List Class that may count specific digits from a given list of integers. \n",
    "This marked digits will be given in a second list. \n",
    "The method .count_spec_digits()/.countSpecDigits() will accept two arguments, a list of an uncertain amount of integers integers_lists/integersLists (and of an uncertain amount of digits, too) and a second list, digits_list/digitsList that has the specific digits to count which length cannot be be longer than 10 (It's obvious, we've got ten digits). The method will output a list of tuples, each tuple having two elements, the first one will be a digit to count, and second one, its corresponding total frequency in all the integers of the first list. This list of tuples should be ordered with the same order that the digits have in digitsList\n",
    "\n",
    "Let's see some cases:\n",
    "\n",
    "l = List()\n",
    "\n",
    "integers_list =  [1, 1, 2 ,3 ,1 ,2 ,3 ,4]\n",
    "digits_list = [1, 3]\n",
    "l.count_spec_digits(integers_list, digits_list) == [(1, 3), (3, 2)]\n",
    "\n",
    "integers_list = [-18, -31, 81, -19, 111, -888]\n",
    "digits_list = [1, 8, 4]\n",
    "l.count_spec_digits(integers_list, digits_list) == [(1, 7), (8, 5), (4, 0)]\n",
    "\n",
    "integers_list = [-77, -65, 56, -79, 6666, 222]\n",
    "digits_list = [1, 8, 4]\n",
    "l.count_spec_digits(integers_list, digits_list) == [(1, 0), (8, 0), (4, 0)]"
   ]
  },
  {
   "cell_type": "code",
   "execution_count": 62,
   "id": "d02fc44b",
   "metadata": {},
   "outputs": [
    {
     "data": {
      "text/plain": [
       "[(1, 7), (8, 5), (4, 0)]"
      ]
     },
     "execution_count": 62,
     "metadata": {},
     "output_type": "execute_result"
    }
   ],
   "source": [
    "integers_list = [-18, -31, 81, -19, 111, -888]\n",
    "digits_list = [1, 8, 4]\n",
    "def count_spec_digits(integers_list, digits_list):\n",
    "    final_list=[]\n",
    "    string_list=[abs(i) for i in integers_list]\n",
    "    string_list2=[str(i) for i in string_list]\n",
    "    string=''\n",
    "    for i in string_list2:\n",
    "        for l in range(len(i)):\n",
    "            string+=i[l]\n",
    "    unit_list=[i for i in string]\n",
    "    for i in digits_list:\n",
    "        t=(i,unit_list.count(str(i)))\n",
    "        final_list.append(t)\n",
    "    return(final_list)\n",
    "count_spec_digits(integers_list, digits_list)"
   ]
  },
  {
   "cell_type": "code",
   "execution_count": null,
   "id": "f7f260d1",
   "metadata": {},
   "outputs": [],
   "source": []
  },
  {
   "cell_type": "code",
   "execution_count": null,
   "id": "d5d28b16",
   "metadata": {},
   "outputs": [],
   "source": [
    "Count the number of occurrences of each character and return it as a list of tuples in order of appearance. \n",
    "For empty output return an empty list.\n",
    "\n",
    "Example:\n",
    "\n",
    "orderedCount(\"abracadabra\") == [['a', 5], ['b', 2], ['r', 2], ['c', 1], ['d', 1]]"
   ]
  },
  {
   "cell_type": "code",
   "execution_count": 67,
   "id": "caaf21ba",
   "metadata": {},
   "outputs": [
    {
     "data": {
      "text/plain": [
       "[('a', 5), ('r', 2), ('b', 2), ('c', 1), ('d', 1)]"
      ]
     },
     "execution_count": 67,
     "metadata": {},
     "output_type": "execute_result"
    }
   ],
   "source": [
    "def ordered_count(x):\n",
    "    tuple_list=[]\n",
    "    \n",
    "    list1=[i for i in x]\n",
    "    set1=set(list1)\n",
    "    \n",
    "    for i in set1:\n",
    "        tuple_list.append((i,list1.count(i)))\n",
    "    \n",
    "        tuple_list.sort(key = lambda x: x[1], reverse=True)\n",
    "\n",
    "    return(tuple_list)\n",
    "\n",
    "\n",
    "ordered_count(\"abracadabra\")        "
   ]
  },
  {
   "cell_type": "code",
   "execution_count": 98,
   "id": "69ba4eb2",
   "metadata": {},
   "outputs": [
    {
     "ename": "TypeError",
     "evalue": "'list' object is not callable",
     "output_type": "error",
     "traceback": [
      "\u001b[1;31m---------------------------------------------------------------------------\u001b[0m",
      "\u001b[1;31mTypeError\u001b[0m                                 Traceback (most recent call last)",
      "\u001b[1;32mC:\\Users\\ADMINI~1\\AppData\\Local\\Temp/ipykernel_20064/2711737540.py\u001b[0m in \u001b[0;36m<module>\u001b[1;34m\u001b[0m\n\u001b[0;32m      6\u001b[0m     \u001b[1;32mreturn\u001b[0m \u001b[0mlist\u001b[0m\u001b[1;33m(\u001b[0m\u001b[0mCounter\u001b[0m\u001b[1;33m(\u001b[0m\u001b[0minput\u001b[0m\u001b[1;33m)\u001b[0m\u001b[1;33m.\u001b[0m\u001b[0mitems\u001b[0m\u001b[1;33m(\u001b[0m\u001b[1;33m)\u001b[0m\u001b[1;33m)\u001b[0m\u001b[1;33m\u001b[0m\u001b[1;33m\u001b[0m\u001b[0m\n\u001b[0;32m      7\u001b[0m \u001b[1;33m\u001b[0m\u001b[0m\n\u001b[1;32m----> 8\u001b[1;33m \u001b[0mprint\u001b[0m\u001b[1;33m(\u001b[0m\u001b[0mordered_count\u001b[0m\u001b[1;33m(\u001b[0m\u001b[0mword\u001b[0m\u001b[1;33m)\u001b[0m\u001b[1;33m)\u001b[0m\u001b[1;33m\u001b[0m\u001b[1;33m\u001b[0m\u001b[0m\n\u001b[0m",
      "\u001b[1;32mC:\\Users\\ADMINI~1\\AppData\\Local\\Temp/ipykernel_20064/2711737540.py\u001b[0m in \u001b[0;36mordered_count\u001b[1;34m(input)\u001b[0m\n\u001b[0;32m      4\u001b[0m \u001b[1;33m\u001b[0m\u001b[0m\n\u001b[0;32m      5\u001b[0m \u001b[1;32mdef\u001b[0m \u001b[0mordered_count\u001b[0m\u001b[1;33m(\u001b[0m\u001b[0minput\u001b[0m\u001b[1;33m)\u001b[0m\u001b[1;33m:\u001b[0m\u001b[1;33m\u001b[0m\u001b[1;33m\u001b[0m\u001b[0m\n\u001b[1;32m----> 6\u001b[1;33m     \u001b[1;32mreturn\u001b[0m \u001b[0mlist\u001b[0m\u001b[1;33m(\u001b[0m\u001b[0mCounter\u001b[0m\u001b[1;33m(\u001b[0m\u001b[0minput\u001b[0m\u001b[1;33m)\u001b[0m\u001b[1;33m.\u001b[0m\u001b[0mitems\u001b[0m\u001b[1;33m(\u001b[0m\u001b[1;33m)\u001b[0m\u001b[1;33m)\u001b[0m\u001b[1;33m\u001b[0m\u001b[1;33m\u001b[0m\u001b[0m\n\u001b[0m\u001b[0;32m      7\u001b[0m \u001b[1;33m\u001b[0m\u001b[0m\n\u001b[0;32m      8\u001b[0m \u001b[0mprint\u001b[0m\u001b[1;33m(\u001b[0m\u001b[0mordered_count\u001b[0m\u001b[1;33m(\u001b[0m\u001b[0mword\u001b[0m\u001b[1;33m)\u001b[0m\u001b[1;33m)\u001b[0m\u001b[1;33m\u001b[0m\u001b[1;33m\u001b[0m\u001b[0m\n",
      "\u001b[1;31mTypeError\u001b[0m: 'list' object is not callable"
     ]
    }
   ],
   "source": [
    "word = \"abracadabra\"\n",
    "\n",
    "from collections import Counter\n",
    "\n",
    "def ordered_count(input):\n",
    "    return list(Counter(input).items())\n",
    "\n",
    "print(ordered_count(word))"
   ]
  },
  {
   "cell_type": "code",
   "execution_count": null,
   "id": "bc332d47",
   "metadata": {},
   "outputs": [],
   "source": []
  }
 ],
 "metadata": {
  "kernelspec": {
   "display_name": "Python 3 (ipykernel)",
   "language": "python",
   "name": "python3"
  },
  "language_info": {
   "codemirror_mode": {
    "name": "ipython",
    "version": 3
   },
   "file_extension": ".py",
   "mimetype": "text/x-python",
   "name": "python",
   "nbconvert_exporter": "python",
   "pygments_lexer": "ipython3",
   "version": "3.9.7"
  }
 },
 "nbformat": 4,
 "nbformat_minor": 5
}
