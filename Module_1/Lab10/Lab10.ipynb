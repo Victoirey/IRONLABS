{
 "cells": [
  {
   "cell_type": "raw",
   "id": "35319b5a",
   "metadata": {},
   "source": [
    "Consider an array/list of sheep where some sheep may be missing from their place. We need a function that counts the number of sheep present in the array (true means present).\n",
    "\n",
    "For example,\n",
    "\n",
    "[True,  True,  True,  False,\n",
    "  True,  True,  True,  True ,\n",
    "  True,  False, True,  False,\n",
    "  True,  False, False, True ,\n",
    "  True,  True,  True,  True ,\n",
    "  False, False, True,  True]\n",
    "The correct answer would be 17.\n",
    "\n",
    "Hint: Don't forget to check for bad values like null/undefined"
   ]
  },
  {
   "cell_type": "code",
   "execution_count": 9,
   "id": "ee3b9976",
   "metadata": {},
   "outputs": [
    {
     "data": {
      "text/plain": [
       "17"
      ]
     },
     "execution_count": 9,
     "metadata": {},
     "output_type": "execute_result"
    }
   ],
   "source": [
    "def CountingSheep(list):\n",
    "    i=0\n",
    "    for element in list:\n",
    "        if element==True:\n",
    "            i+=1\n",
    "        else:\n",
    "            continue\n",
    "    return i\n",
    "\n",
    "sheep=[True,  True,  True,  False, True,  True,  True,  True ,True,\n",
    "       False, True,  False, True,  False, False, True ,True,  True,\n",
    "       True,  True ,False, False, True,  True]\n",
    "CountingSheep(sheep)"
   ]
  },
  {
   "cell_type": "raw",
   "id": "356a3702",
   "metadata": {},
   "source": [
    "Take an array and remove every second element from the array. Always keep the first element and start removing with the next element.\n",
    "\n",
    "Example:\n",
    "\n",
    "[\"Keep\", \"Remove\", \"Keep\", \"Remove\", \"Keep\", ...] --> [\"Keep\", \"Keep\", \"Keep\", ...]\n",
    "None of the arrays will be empty, so you don't have to worry about that!"
   ]
  },
  {
   "cell_type": "code",
   "execution_count": 23,
   "id": "b2737997",
   "metadata": {},
   "outputs": [
    {
     "name": "stdout",
     "output_type": "stream",
     "text": [
      "['Keep', 'Keep', 'Keep']\n"
     ]
    }
   ],
   "source": [
    "my_list = [\"Keep\", \"Remove\", \"Keep\", \"Remove\", \"Keep\", \"Remove\"]\n",
    "new_array=my_list[::2]\n",
    "print(new_array)"
   ]
  },
  {
   "cell_type": "code",
   "execution_count": null,
   "id": "2e372c8d",
   "metadata": {},
   "outputs": [],
   "source": [
    "my_list = ['Keep', 'Remove', 'Keep', 'Remove', 'Keep']\n",
    "my_list2 = []\n",
    "for i in range (0, len(my_list)):\n",
    "    if i % 2 != 1:\n",
    "        my_list2.append(my_list[i])\n",
    "print(my_list2)"
   ]
  },
  {
   "cell_type": "raw",
   "id": "b21efbac",
   "metadata": {},
   "source": [
    "Convert number to reversed array of digits\n",
    "Given a random non-negative number, you have to return the digits of this number within an array in reverse order.\n",
    "\n",
    "Example:\n",
    "348597 => [7,9,5,8,4,3]\n",
    "0 => [0]"
   ]
  },
  {
   "cell_type": "code",
   "execution_count": 27,
   "id": "ed17cff3",
   "metadata": {},
   "outputs": [
    {
     "name": "stdout",
     "output_type": "stream",
     "text": [
      "['3', '4', '8', '5', '9', '7']\n",
      "['7', '9', '5', '8', '4', '3']\n"
     ]
    }
   ],
   "source": [
    "number =\"348597\"\n",
    "list_number = []\n",
    "for i in range(0, len(number)):\n",
    "    list_number.append(number[i])\n",
    "print(list_number)\n",
    "print(list_number[::-1])"
   ]
  },
  {
   "cell_type": "raw",
   "id": "92cd4a67",
   "metadata": {},
   "source": [
    "Welcome. In this kata, you are asked to square every digit of a number and concatenate them.\n",
    "\n",
    "For example, if we run 9119 through the function, 811181 will come out, because 92 is 81 and 12 is 1.\n",
    "\n",
    "Note: The function accepts an integer and returns an integer"
   ]
  },
  {
   "cell_type": "code",
   "execution_count": 48,
   "id": "001f4825",
   "metadata": {},
   "outputs": [
    {
     "name": "stdout",
     "output_type": "stream",
     "text": [
      "811181\n"
     ]
    }
   ],
   "source": [
    "number = \"9119\"\n",
    "list_number = []\n",
    "str1=\"\"\n",
    "for i in range(0, len(number)):\n",
    "    list_number.append(int(number[i])**2)\n",
    "    \n",
    "for i in list_number:\n",
    "    str1=str1 +str(i)\n",
    "print(str1)"
   ]
  },
  {
   "cell_type": "code",
   "execution_count": 44,
   "id": "53e2a90f",
   "metadata": {},
   "outputs": [
    {
     "name": "stdout",
     "output_type": "stream",
     "text": [
      "811181\n"
     ]
    }
   ],
   "source": [
    "y = \"9119\"\n",
    "list=[]\n",
    "str1 =''\n",
    "for i in range(0,len(y)):\n",
    "    list.append(int(y[i])**2)\n",
    "for i in list:\n",
    "    str1 = str1 + str(i)\n",
    "print(str1)"
   ]
  },
  {
   "cell_type": "code",
   "execution_count": null,
   "id": "cccfa660",
   "metadata": {},
   "outputs": [],
   "source": []
  }
 ],
 "metadata": {
  "kernelspec": {
   "display_name": "Python 3 (ipykernel)",
   "language": "python",
   "name": "python3"
  },
  "language_info": {
   "codemirror_mode": {
    "name": "ipython",
    "version": 3
   },
   "file_extension": ".py",
   "mimetype": "text/x-python",
   "name": "python",
   "nbconvert_exporter": "python",
   "pygments_lexer": "ipython3",
   "version": "3.9.7"
  }
 },
 "nbformat": 4,
 "nbformat_minor": 5
}
