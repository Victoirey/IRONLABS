{
 "cells": [
  {
   "cell_type": "markdown",
   "id": "69ed2307",
   "metadata": {},
   "source": [
    "# OLD CODE VERSION"
   ]
  },
  {
   "cell_type": "code",
   "execution_count": null,
   "id": "81f898fe",
   "metadata": {},
   "outputs": [],
   "source": [
    "def RandomStringGenerator(l=b, a=['a','b','c','d','e','f','g','h','i','j','k','l','m','n','o','p','q','r','s','t','u','v','w','x','y','z','0','1','2','3','4','5','6','7','8','9']):\n",
    "    p = 0\n",
    "    s = ''\n",
    "    while p<l:\n",
    "        import random\n",
    "        s += random.choice(a)\n",
    "        p += 1\n",
    "    return s\n",
    "\n",
    "def BatchStringGenerator(n, a, b):\n",
    "    r = []\n",
    "    for i in range(n):\n",
    "        c = None\n",
    "        if a < b:\n",
    "            import random\n",
    "            c = random.choice(range(a, b))\n",
    "        elif a == b:\n",
    "            c = a\n",
    "        else:\n",
    "            import sys\n",
    "            sys.exit('Incorrect min and max string lengths. Try again.')\n",
    "        r.append(RandomStringGenerator(c))\n",
    "    return r\n",
    "\n",
    "a = input('Enter minimum string length: ')\n",
    "b = input('Enter maximum string length: ')\n",
    "n = input('How many random strings to generate? ')\n",
    "\n",
    "print(BatchStringGenerator(int(n), int(a), int(b)))\n"
   ]
  },
  {
   "cell_type": "markdown",
   "id": "384bad8b",
   "metadata": {},
   "source": [
    "# NEW CODE VERSION"
   ]
  },
  {
   "cell_type": "code",
   "execution_count": 78,
   "id": "2be0287b",
   "metadata": {},
   "outputs": [],
   "source": [
    "import random\n",
    "import string"
   ]
  },
  {
   "cell_type": "code",
   "execution_count": 83,
   "id": "1bd7d1df",
   "metadata": {},
   "outputs": [
    {
     "name": "stdout",
     "output_type": "stream",
     "text": [
      "Enter minimum string length: 10\n",
      "Enter maximum string length: 15\n",
      "How many random strings to generate? 5\n"
     ]
    }
   ],
   "source": [
    "a = input('Enter minimum string length: ')\n",
    "b = input('Enter maximum string length: ')\n",
    "n = int(input('How many random strings to generate? '))"
   ]
  },
  {
   "cell_type": "code",
   "execution_count": 80,
   "id": "7131a1a9",
   "metadata": {},
   "outputs": [],
   "source": [
    "import random\n",
    "def random_string_generator(length=4):\n",
    "    ALPHA_NUM = [chr(item) for item in list(range(97,123)) + list(range(48,58))];\n",
    "\n",
    "    return \"\".join(random.sample(ALPHA_NUM, length));"
   ]
  },
  {
   "cell_type": "code",
   "execution_count": 81,
   "id": "0abf4bae",
   "metadata": {},
   "outputs": [],
   "source": [
    "def batch_string_generator(n_strings, min_len=a, max_len=b):\n",
    "    if min_len > max_len:\n",
    "        return sys.exit('Incorrect min and max string lengths. Try again.');\n",
    "    else:\n",
    "        import random;\n",
    "        import sys;\n",
    "        var_len = [min_len if min_len == max_len else random.choice(range(min_len, max_len)) for n in range(n_strings)];\n",
    "        print(var_len)\n",
    "        return list(map(random_string_generator, var_len));"
   ]
  },
  {
   "cell_type": "code",
   "execution_count": 84,
   "id": "74ae8a0a",
   "metadata": {},
   "outputs": [
    {
     "name": "stdout",
     "output_type": "stream",
     "text": [
      "[12, 13, 14, 13, 10]\n"
     ]
    },
    {
     "data": {
      "text/plain": [
       "['gi58dp2s40l3',\n",
       " 'c6lxywp0idqze',\n",
       " 's5ah9bcl4ep7w1',\n",
       " 'f7uvt1ns58z6a',\n",
       " 'sgtv58ycu6']"
      ]
     },
     "execution_count": 84,
     "metadata": {},
     "output_type": "execute_result"
    }
   ],
   "source": [
    "batch_string_generator(n, min_len=int(a), max_len=int(b))"
   ]
  }
 ],
 "metadata": {
  "kernelspec": {
   "display_name": "Python 3 (ipykernel)",
   "language": "python",
   "name": "python3"
  },
  "language_info": {
   "codemirror_mode": {
    "name": "ipython",
    "version": 3
   },
   "file_extension": ".py",
   "mimetype": "text/x-python",
   "name": "python",
   "nbconvert_exporter": "python",
   "pygments_lexer": "ipython3",
   "version": "3.9.7"
  }
 },
 "nbformat": 4,
 "nbformat_minor": 5
}
